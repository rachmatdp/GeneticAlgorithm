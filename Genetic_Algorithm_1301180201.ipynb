{
  "nbformat": 4,
  "nbformat_minor": 0,
  "metadata": {
    "colab": {
      "name": "Genetic-Algorithm-1301180201.ipynb",
      "provenance": [],
      "collapsed_sections": []
    },
    "kernelspec": {
      "name": "python3",
      "display_name": "Python 3"
    }
  },
  "cells": [
    {
      "cell_type": "code",
      "metadata": {
        "id": "qW-zP5PJAVlx"
      },
      "source": [
        "import random\n",
        "import copy\n",
        "import math"
      ],
      "execution_count": 8,
      "outputs": []
    },
    {
      "cell_type": "code",
      "metadata": {
        "id": "vP4Jy3vDEfIE"
      },
      "source": [
        "def createKromosom(size_kromosom):\n",
        "    kromosom = []  \n",
        "    for i in range(size_kromosom):\n",
        "        kromosom.append(random.randint(0,9))      \n",
        "    \n",
        "    return kromosom\n",
        "\n",
        "def createPopulasi(size_populasi):\n",
        "    populasi = []\n",
        "    for i in range(size_populasi):\n",
        "        populasi.append(createKromosom(6))\n",
        "        \n",
        "    return populasi"
      ],
      "execution_count": 7,
      "outputs": []
    },
    {
      "cell_type": "code",
      "metadata": {
        "id": "9AwZ96m8Ik8S"
      },
      "source": [
        "def decodingKromosom(kromosom): \n",
        "    value_x1 = -2 + (3 / (9 * (10**-1 + 10**-2 + 10**-3))) * ((kromosom[0]*10**-1)+(kromosom[1]*10**-2)+(kromosom[2]*10**-3))\n",
        "    value_x2 = -1 + (2 / (9 * (10**-1 + 10**-2 + 10**-3))) * ((kromosom[3]*10**-1)+(kromosom[4]*10**-2)+(kromosom[5]*10**-3))\n",
        "    \n",
        "    return value_x1, value_x2\n",
        "\n",
        "def countFitness(kromosom):\n",
        "    k = decodingKromosom(kromosom)\n",
        "    value_fit = 1 / (((math.cos(k[0]))*(math.sin(k[1]))) - k[0]/k[1]**2 + 1) + 0.001\n",
        "    \n",
        "    return value_fit\n",
        "\n",
        "def countFitnessAll(popul, size_populasi):\n",
        "    fit_all = []    \n",
        "    for i in range(size_populasi):\n",
        "        fit_all.append(countFitness(popul[i]))\n",
        "    \n",
        "    return fit_all"
      ],
      "execution_count": 6,
      "outputs": []
    },
    {
      "cell_type": "code",
      "metadata": {
        "id": "3AwMLHf-eGK4"
      },
      "source": [
        "def tourSelection(populasi, size_tour, size_populasi):\n",
        "    best_kromosom = []\n",
        "    for i in range(1, size_tour):\n",
        "        kromosom = populasi[random.randint(0,size_populasi-1)]\n",
        "        if (best_kromosom == [] or countFitness(kromosom) > countFitness(best_kromosom)):\n",
        "            best_kromosom = kromosom\n",
        "    return best_kromosom    "
      ],
      "execution_count": 5,
      "outputs": []
    },
    {
      "cell_type": "code",
      "metadata": {
        "id": "I2QUMMASf7DR"
      },
      "source": [
        "def crossover(parent1, parent2, pc):\n",
        "    r = random.random()\n",
        "    if (r < pc):\n",
        "        point = random.randint(0,5)\n",
        "        for i in range(point):\n",
        "            parent1[i], parent2[i] = parent2[i], parent1[i]\n",
        "        \n",
        "    return parent1, parent2"
      ],
      "execution_count": 4,
      "outputs": []
    },
    {
      "cell_type": "code",
      "metadata": {
        "id": "zecvvDqpg8L8"
      },
      "source": [
        "def mutation(parent1, parent2, pm):\n",
        "    r = random.random()\n",
        "    if (r < pm):\n",
        "        parent1[random.randint(0,5)] = random.randint(0,9)\n",
        "        parent2[random.randint(0,5)] = random.randint(0,9)\n",
        "    return parent1, parent2"
      ],
      "execution_count": 3,
      "outputs": []
    },
    {
      "cell_type": "code",
      "metadata": {
        "id": "WiHPpSFpQp4I"
      },
      "source": [
        "def survivorElitisme(fit_all):\n",
        "    return fit_all.index(max(fit_all))"
      ],
      "execution_count": 2,
      "outputs": []
    },
    {
      "cell_type": "code",
      "metadata": {
        "id": "C6eeK2KPQ5-f"
      },
      "source": [
        "sizepopulasi = 60\n",
        "sizetour = 5\n",
        "generasi = 100\n",
        "pc = 0.63\n",
        "pm = 0.01"
      ],
      "execution_count": 11,
      "outputs": []
    },
    {
      "cell_type": "code",
      "metadata": {
        "id": "OlX9SnuWRb-o",
        "outputId": "a42bdcb4-6798-4963-887c-88f1af0bb7c8",
        "colab": {
          "base_uri": "https://localhost:8080/",
          "height": 184
        }
      },
      "source": [
        "populasi = createPopulasi(sizepopulasi)\n",
        "\n",
        "for i in range(generasi):\n",
        "    fitness = countFitnessAll(populasi, sizepopulasi)\n",
        "    new_populasi = []\n",
        "\n",
        "    best = survivorElitisme(fitness)\n",
        "    new_populasi.append(populasi[best])\n",
        "    new_populasi.append(populasi[best])\n",
        "    i = 0\n",
        "    while (i < sizepopulasi-2):\n",
        "        parent1 = tourSelection(populasi, sizetour, sizepopulasi)\n",
        "        parent2 = tourSelection(populasi, sizetour, sizepopulasi)\n",
        "        while (parent1 == parent2):\n",
        "            parent2 = tourSelection(populasi, sizetour, sizepopulasi)\n",
        "        par1 = copy.deepcopy(parent1)\n",
        "        par2 = copy.deepcopy(parent2)\n",
        "        child = crossover(par1, par2, pc)\n",
        "        child = mutation(child[0], child[1], pm)\n",
        "        new_populasi += child\n",
        "        i += 2\n",
        "    populasi = new_populasi\n",
        "\n",
        "fitness = countFitnessAll(populasi, sizepopulasi)\n",
        "result = survivorElitisme(fitness)\n",
        "\n",
        "print('Output Hasil')\n",
        "print()\n",
        "print('Kromosom Terbaik:', populasi[result])\n",
        "print('Fitness Terbaik :', countFitness(populasi[result]))\n",
        "print('Hasil Decode (X1, X2)  :', decodingKromosom(populasi[result]))\n",
        "print()\n",
        "print('CREATED BY')\n",
        "print('NAME : RACHMAT DWI PUTRA')\n",
        "print('ID : 1301180201')\n",
        "print('CLASS : IF-42-04')"
      ],
      "execution_count": 15,
      "outputs": [
        {
          "output_type": "stream",
          "text": [
            "Output Hasil\n",
            "\n",
            "Kromosom Terbaik: [8, 6, 9, 8, 2, 0]\n",
            "Fitness Terbaik : 99.96403282814896\n",
            "Hasil Decode (X1, X2)  : (0.6096096096096097, 0.641641641641642)\n",
            "\n",
            "CREATED BY\n",
            "NAME : RACHMAT DWI PUTRA\n",
            "ID : 1301180201\n",
            "CLASS : IF-42-04\n"
          ],
          "name": "stdout"
        }
      ]
    }
  ]
}